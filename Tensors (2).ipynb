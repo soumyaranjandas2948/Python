{
  "nbformat": 4,
  "nbformat_minor": 0,
  "metadata": {
    "colab": {
      "provenance": [],
      "gpuType": "T4"
    },
    "kernelspec": {
      "name": "python3",
      "display_name": "Python 3"
    },
    "language_info": {
      "name": "python"
    },
    "accelerator": "GPU"
  },
  "cells": [
    {
      "cell_type": "markdown",
      "source": [
        "# Introduction"
      ],
      "metadata": {
        "id": "WBUpcTEtfrkj"
      }
    },
    {
      "cell_type": "code",
      "execution_count": 1,
      "metadata": {
        "id": "WRhYBIIWOP5A",
        "colab": {
          "base_uri": "https://localhost:8080/",
          "height": 54
        },
        "outputId": "71c309ed-c351-4cdd-df99-79dfa4db7579"
      },
      "outputs": [
        {
          "output_type": "execute_result",
          "data": {
            "text/plain": [
              "'\\n1. Pytorch Framework - Tensors datatypes\\nTensors are similar to numpy arrays, tensors can run on gpus where as numpy arrays cannot run on gpus.\\nTenors support Automatic Differentiation\\n'"
            ],
            "application/vnd.google.colaboratory.intrinsic+json": {
              "type": "string"
            }
          },
          "metadata": {},
          "execution_count": 1
        }
      ],
      "source": [
        "'''\n",
        "1. Pytorch Framework - Tensors datatypes\n",
        "Tensors are similar to numpy arrays, tensors can run on gpus where as numpy arrays cannot run on gpus.\n",
        "Tenors support Automatic Differentiation\n",
        "'''"
      ]
    },
    {
      "cell_type": "markdown",
      "source": [
        "# initializing a Tensor"
      ],
      "metadata": {
        "id": "Ofaj9gSngO-u"
      }
    },
    {
      "cell_type": "code",
      "source": [
        "import torch\n",
        "import numpy as np"
      ],
      "metadata": {
        "id": "eYLVsukUgT4l"
      },
      "execution_count": 2,
      "outputs": []
    },
    {
      "cell_type": "code",
      "source": [
        "torch_tensor = torch.Tensor([[1,2],[3,4]])\n",
        "print('type = ',type(torch_tensor))\n",
        "#if we want to convert the tensor to numpy array\n",
        "numpy_convert = np.array(torch_tensor)\n",
        "print(\"type = \",type(numpy_convert))\n",
        "#further converting nparray to tensor\n",
        "torch_tensor = torch.tensor(numpy_convert)\n",
        "print('type = ',type(torch_tensor))\n",
        "\n",
        "\n"
      ],
      "metadata": {
        "id": "ioSQsi-LggNF",
        "colab": {
          "base_uri": "https://localhost:8080/"
        },
        "outputId": "6a012387-4a31-4c2b-e468-6678bbc2a494"
      },
      "execution_count": 3,
      "outputs": [
        {
          "output_type": "stream",
          "name": "stdout",
          "text": [
            "type =  <class 'torch.Tensor'>\n",
            "type =  <class 'numpy.ndarray'>\n",
            "type =  <class 'torch.Tensor'>\n"
          ]
        }
      ]
    },
    {
      "cell_type": "markdown",
      "source": [
        "# Create a tensor of all ones similar to x_tensor"
      ],
      "metadata": {
        "id": "JGDsz_x6jgww"
      }
    },
    {
      "cell_type": "code",
      "source": [
        "x_ones = torch.ones((2,2))\n",
        "x_ones"
      ],
      "metadata": {
        "id": "0f7OZJhqhUmm",
        "colab": {
          "base_uri": "https://localhost:8080/"
        },
        "outputId": "40dbfb06-b92c-4f11-e6cb-49aac4fc676b"
      },
      "execution_count": 4,
      "outputs": [
        {
          "output_type": "execute_result",
          "data": {
            "text/plain": [
              "tensor([[1., 1.],\n",
              "        [1., 1.]])"
            ]
          },
          "metadata": {},
          "execution_count": 4
        }
      ]
    },
    {
      "cell_type": "code",
      "source": [
        "#Create a new tensor of same shape as existing tensor\n",
        "x_ones = torch.ones_like(torch_tensor)\n",
        "x_ones"
      ],
      "metadata": {
        "id": "DVGVkEuVkOmN",
        "colab": {
          "base_uri": "https://localhost:8080/"
        },
        "outputId": "8cdff013-f66d-4709-991d-101df27d7234"
      },
      "execution_count": 5,
      "outputs": [
        {
          "output_type": "execute_result",
          "data": {
            "text/plain": [
              "tensor([[1., 1.],\n",
              "        [1., 1.]])"
            ]
          },
          "metadata": {},
          "execution_count": 5
        }
      ]
    },
    {
      "cell_type": "code",
      "source": [
        "#Create a random tensor\n",
        "x_rand = torch.rand((2,2),dtype = torch.float)\n",
        "x_rand"
      ],
      "metadata": {
        "id": "_lSJDRhOmMFr",
        "colab": {
          "base_uri": "https://localhost:8080/"
        },
        "outputId": "f95fea54-99d6-4b77-84c2-8cb0c2fe405b"
      },
      "execution_count": 6,
      "outputs": [
        {
          "output_type": "execute_result",
          "data": {
            "text/plain": [
              "tensor([[0.7953, 0.4392],\n",
              "        [0.6998, 0.0860]])"
            ]
          },
          "metadata": {},
          "execution_count": 6
        }
      ]
    },
    {
      "cell_type": "code",
      "source": [
        "#Create a new random tensor of same shape as existing tensor\n",
        "x_rand = torch.rand_like(torch_tensor,dtype = torch.float)\n",
        "x_rand"
      ],
      "metadata": {
        "id": "GF_nL-QcnPDE",
        "colab": {
          "base_uri": "https://localhost:8080/"
        },
        "outputId": "4dc9b56e-d712-42db-d146-8b54904fb57d"
      },
      "execution_count": 7,
      "outputs": [
        {
          "output_type": "execute_result",
          "data": {
            "text/plain": [
              "tensor([[0.3475, 0.4374],\n",
              "        [0.5202, 0.6625]])"
            ]
          },
          "metadata": {},
          "execution_count": 7
        }
      ]
    },
    {
      "cell_type": "code",
      "source": [
        "x_rand.shape"
      ],
      "metadata": {
        "id": "m82KPYIkoQ77",
        "colab": {
          "base_uri": "https://localhost:8080/"
        },
        "outputId": "46f9ce60-427f-4f0a-c08e-e3d43e55f350"
      },
      "execution_count": 8,
      "outputs": [
        {
          "output_type": "execute_result",
          "data": {
            "text/plain": [
              "torch.Size([2, 2])"
            ]
          },
          "metadata": {},
          "execution_count": 8
        }
      ]
    },
    {
      "cell_type": "code",
      "source": [
        "x_rand.dtype"
      ],
      "metadata": {
        "id": "eQn6szM8od0j",
        "colab": {
          "base_uri": "https://localhost:8080/"
        },
        "outputId": "16422c17-d327-4c6b-cfe1-055c39c08114"
      },
      "execution_count": 9,
      "outputs": [
        {
          "output_type": "execute_result",
          "data": {
            "text/plain": [
              "torch.float32"
            ]
          },
          "metadata": {},
          "execution_count": 9
        }
      ]
    },
    {
      "cell_type": "code",
      "source": [
        "x_rand.device"
      ],
      "metadata": {
        "id": "NWzgoXePoi5r",
        "colab": {
          "base_uri": "https://localhost:8080/"
        },
        "outputId": "a4788b17-c5b8-4d67-e5d7-9d1b49087f25"
      },
      "execution_count": 10,
      "outputs": [
        {
          "output_type": "execute_result",
          "data": {
            "text/plain": [
              "device(type='cpu')"
            ]
          },
          "metadata": {},
          "execution_count": 10
        }
      ]
    },
    {
      "cell_type": "code",
      "source": [
        "if torch.cuda.is_available():\n",
        "  x_rand = x_rand.to('cuda')\n",
        "else:\n",
        "  pass"
      ],
      "metadata": {
        "id": "dEOpPUXGor4U"
      },
      "execution_count": 11,
      "outputs": []
    },
    {
      "cell_type": "code",
      "source": [
        "x_rand"
      ],
      "metadata": {
        "id": "GNXcpdUypIlp",
        "colab": {
          "base_uri": "https://localhost:8080/"
        },
        "outputId": "c691b0f0-16c7-4ab4-f72e-222cd7ac904b"
      },
      "execution_count": 12,
      "outputs": [
        {
          "output_type": "execute_result",
          "data": {
            "text/plain": [
              "tensor([[0.3475, 0.4374],\n",
              "        [0.5202, 0.6625]], device='cuda:0')"
            ]
          },
          "metadata": {},
          "execution_count": 12
        }
      ]
    },
    {
      "cell_type": "code",
      "source": [
        "x_rand.device"
      ],
      "metadata": {
        "id": "JGV5z-nypSl1",
        "colab": {
          "base_uri": "https://localhost:8080/"
        },
        "outputId": "d9e3eca8-9ef0-48e4-f299-8c3eb53cd24f"
      },
      "execution_count": 13,
      "outputs": [
        {
          "output_type": "execute_result",
          "data": {
            "text/plain": [
              "device(type='cuda', index=0)"
            ]
          },
          "metadata": {},
          "execution_count": 13
        }
      ]
    },
    {
      "cell_type": "markdown",
      "source": [
        "# Indexing"
      ],
      "metadata": {
        "id": "KIbbzd5Hp5ik"
      }
    },
    {
      "cell_type": "code",
      "source": [
        "tensor = torch.ones((4,4))\n",
        "print(tensor)\n",
        "tensor[0] #first row"
      ],
      "metadata": {
        "id": "purybMwqpwC_",
        "colab": {
          "base_uri": "https://localhost:8080/"
        },
        "outputId": "015a35b4-4b5b-4dd8-e67b-e745bbd10827"
      },
      "execution_count": 14,
      "outputs": [
        {
          "output_type": "stream",
          "name": "stdout",
          "text": [
            "tensor([[1., 1., 1., 1.],\n",
            "        [1., 1., 1., 1.],\n",
            "        [1., 1., 1., 1.],\n",
            "        [1., 1., 1., 1.]])\n"
          ]
        },
        {
          "output_type": "execute_result",
          "data": {
            "text/plain": [
              "tensor([1., 1., 1., 1.])"
            ]
          },
          "metadata": {},
          "execution_count": 14
        }
      ]
    },
    {
      "cell_type": "code",
      "source": [
        "tensor[-1] #last row"
      ],
      "metadata": {
        "id": "nJLxZIgBqIZ8",
        "colab": {
          "base_uri": "https://localhost:8080/"
        },
        "outputId": "a1611ce1-0cde-42d2-a16e-484543f45dc7"
      },
      "execution_count": 15,
      "outputs": [
        {
          "output_type": "execute_result",
          "data": {
            "text/plain": [
              "tensor([1., 1., 1., 1.])"
            ]
          },
          "metadata": {},
          "execution_count": 15
        }
      ]
    },
    {
      "cell_type": "code",
      "source": [
        "tensor[:,2] #thirt column"
      ],
      "metadata": {
        "id": "soPpjQnJqRhk",
        "colab": {
          "base_uri": "https://localhost:8080/"
        },
        "outputId": "6a20e9d2-ede5-4483-dc33-f0000ae6a61d"
      },
      "execution_count": 16,
      "outputs": [
        {
          "output_type": "execute_result",
          "data": {
            "text/plain": [
              "tensor([1., 1., 1., 1.])"
            ]
          },
          "metadata": {},
          "execution_count": 16
        }
      ]
    },
    {
      "cell_type": "code",
      "source": [
        "tensor[[1,2],2:]"
      ],
      "metadata": {
        "id": "hHS4eKiIqfRH",
        "colab": {
          "base_uri": "https://localhost:8080/"
        },
        "outputId": "b12fd150-dda4-417a-aa11-46b0ecc5f213"
      },
      "execution_count": 17,
      "outputs": [
        {
          "output_type": "execute_result",
          "data": {
            "text/plain": [
              "tensor([[1., 1.],\n",
              "        [1., 1.]])"
            ]
          },
          "metadata": {},
          "execution_count": 17
        }
      ]
    },
    {
      "cell_type": "markdown",
      "source": [
        "# Concartenating the tensor"
      ],
      "metadata": {
        "id": "FDReV9AcrC9z"
      }
    },
    {
      "cell_type": "code",
      "source": [
        "tensor = torch.rand(4,4)\n",
        "tensor"
      ],
      "metadata": {
        "id": "AWs5T7aaq2SZ",
        "colab": {
          "base_uri": "https://localhost:8080/"
        },
        "outputId": "103d290f-37f5-4962-cf0e-ef14e1b80e7d"
      },
      "execution_count": 18,
      "outputs": [
        {
          "output_type": "execute_result",
          "data": {
            "text/plain": [
              "tensor([[0.4618, 0.3658, 0.2106, 0.7026],\n",
              "        [0.1488, 0.5192, 0.2418, 0.0043],\n",
              "        [0.3612, 0.5849, 0.8287, 0.8427],\n",
              "        [0.3075, 0.5505, 0.5958, 0.0369]])"
            ]
          },
          "metadata": {},
          "execution_count": 18
        }
      ]
    },
    {
      "cell_type": "code",
      "source": [
        "torch.cat([tensor,tensor,tensor],dim = 1)"
      ],
      "metadata": {
        "id": "qKweA7fvrNFm",
        "colab": {
          "base_uri": "https://localhost:8080/"
        },
        "outputId": "167c64be-079a-4dc4-abf6-1d3146aff426"
      },
      "execution_count": 19,
      "outputs": [
        {
          "output_type": "execute_result",
          "data": {
            "text/plain": [
              "tensor([[0.4618, 0.3658, 0.2106, 0.7026, 0.4618, 0.3658, 0.2106, 0.7026, 0.4618,\n",
              "         0.3658, 0.2106, 0.7026],\n",
              "        [0.1488, 0.5192, 0.2418, 0.0043, 0.1488, 0.5192, 0.2418, 0.0043, 0.1488,\n",
              "         0.5192, 0.2418, 0.0043],\n",
              "        [0.3612, 0.5849, 0.8287, 0.8427, 0.3612, 0.5849, 0.8287, 0.8427, 0.3612,\n",
              "         0.5849, 0.8287, 0.8427],\n",
              "        [0.3075, 0.5505, 0.5958, 0.0369, 0.3075, 0.5505, 0.5958, 0.0369, 0.3075,\n",
              "         0.5505, 0.5958, 0.0369]])"
            ]
          },
          "metadata": {},
          "execution_count": 19
        }
      ]
    },
    {
      "cell_type": "markdown",
      "source": [
        "# Arithmatic Operation"
      ],
      "metadata": {
        "id": "NjkuLpYurxNK"
      }
    },
    {
      "cell_type": "code",
      "source": [
        "#matrix multiplication\n",
        "t1 = torch.rand(2,2)\n",
        "t2 = torch.rand(2,2)\n",
        "y1 = t1@t2.T\n",
        "print(y1)\n",
        "y2 = t1.matmul(t2.T)\n",
        "print(y2)"
      ],
      "metadata": {
        "id": "7TvMSXCKruzW",
        "colab": {
          "base_uri": "https://localhost:8080/"
        },
        "outputId": "eab93241-04f5-4e20-cf75-699cbb290f08"
      },
      "execution_count": 20,
      "outputs": [
        {
          "output_type": "stream",
          "name": "stdout",
          "text": [
            "tensor([[0.2627, 0.0989],\n",
            "        [0.4553, 0.1342]])\n",
            "tensor([[0.2627, 0.0989],\n",
            "        [0.4553, 0.1342]])\n"
          ]
        }
      ]
    },
    {
      "cell_type": "code",
      "source": [
        "z1 = t1*t2 #element wise multiplication"
      ],
      "metadata": {
        "id": "T_dD2GeOsJJ4"
      },
      "execution_count": 21,
      "outputs": []
    },
    {
      "cell_type": "code",
      "source": [
        "print(z1)"
      ],
      "metadata": {
        "id": "jDXINzf5ssBY",
        "colab": {
          "base_uri": "https://localhost:8080/"
        },
        "outputId": "46284eee-1e36-4edc-a297-ac76e5415aac"
      },
      "execution_count": 22,
      "outputs": [
        {
          "output_type": "stream",
          "name": "stdout",
          "text": [
            "tensor([[0.1637, 0.0991],\n",
            "        [0.0457, 0.0885]])\n"
          ]
        }
      ]
    },
    {
      "cell_type": "code",
      "source": [
        "z2 = t1.mul(t2) #it can also done for element wise multiplication\n",
        "z2"
      ],
      "metadata": {
        "id": "xKhs9sDUsu0W",
        "colab": {
          "base_uri": "https://localhost:8080/"
        },
        "outputId": "2217fe4b-8a6f-494e-dfe8-2e7501c01bb6"
      },
      "execution_count": 23,
      "outputs": [
        {
          "output_type": "execute_result",
          "data": {
            "text/plain": [
              "tensor([[0.1637, 0.0991],\n",
              "        [0.0457, 0.0885]])"
            ]
          },
          "metadata": {},
          "execution_count": 23
        }
      ]
    },
    {
      "cell_type": "code",
      "source": [
        "#sum of all elements in the matrix\n",
        "agg = t1.sum()\n",
        "print(agg)\n",
        "print(agg.item())"
      ],
      "metadata": {
        "id": "YwkRgWultDO5",
        "colab": {
          "base_uri": "https://localhost:8080/"
        },
        "outputId": "f69714a8-d277-4f48-9e6a-b0342c8f742a"
      },
      "execution_count": 24,
      "outputs": [
        {
          "output_type": "stream",
          "name": "stdout",
          "text": [
            "tensor(2.1493)\n",
            "2.149332046508789\n"
          ]
        }
      ]
    },
    {
      "cell_type": "markdown",
      "source": [
        "# change values to tensor"
      ],
      "metadata": {
        "id": "dMknySIWt2Rh"
      }
    },
    {
      "cell_type": "code",
      "source": [
        "ten = torch.ones(4,4)"
      ],
      "metadata": {
        "id": "qTbqqE0LtkB1"
      },
      "execution_count": 25,
      "outputs": []
    },
    {
      "cell_type": "code",
      "source": [
        "ten"
      ],
      "metadata": {
        "id": "h1lOo5BQuGJE",
        "colab": {
          "base_uri": "https://localhost:8080/"
        },
        "outputId": "2330195d-3faf-4007-c28f-ea42f5499785"
      },
      "execution_count": 26,
      "outputs": [
        {
          "output_type": "execute_result",
          "data": {
            "text/plain": [
              "tensor([[1., 1., 1., 1.],\n",
              "        [1., 1., 1., 1.],\n",
              "        [1., 1., 1., 1.],\n",
              "        [1., 1., 1., 1.]])"
            ]
          },
          "metadata": {},
          "execution_count": 26
        }
      ]
    },
    {
      "cell_type": "code",
      "source": [
        "ten[:,2] = 0"
      ],
      "metadata": {
        "id": "zSeI5EBYuL0o"
      },
      "execution_count": 27,
      "outputs": []
    },
    {
      "cell_type": "code",
      "source": [
        "ten"
      ],
      "metadata": {
        "id": "NxBa5wTNuWjU",
        "colab": {
          "base_uri": "https://localhost:8080/"
        },
        "outputId": "3fc6871f-7364-4b8f-bbcd-e0a9d6c45b81"
      },
      "execution_count": 28,
      "outputs": [
        {
          "output_type": "execute_result",
          "data": {
            "text/plain": [
              "tensor([[1., 1., 0., 1.],\n",
              "        [1., 1., 0., 1.],\n",
              "        [1., 1., 0., 1.],\n",
              "        [1., 1., 0., 1.]])"
            ]
          },
          "metadata": {},
          "execution_count": 28
        }
      ]
    },
    {
      "cell_type": "code",
      "source": [
        "#add a number to a tensor\n",
        "ten.add_(5)"
      ],
      "metadata": {
        "id": "CJeEquOeuYKp",
        "colab": {
          "base_uri": "https://localhost:8080/"
        },
        "outputId": "f7e5f4b4-4fa0-4447-999a-d71003d9f331"
      },
      "execution_count": 29,
      "outputs": [
        {
          "output_type": "execute_result",
          "data": {
            "text/plain": [
              "tensor([[6., 6., 5., 6.],\n",
              "        [6., 6., 5., 6.],\n",
              "        [6., 6., 5., 6.],\n",
              "        [6., 6., 5., 6.]])"
            ]
          },
          "metadata": {},
          "execution_count": 29
        }
      ]
    },
    {
      "cell_type": "code",
      "source": [
        "x = np.array([[1,2],[3,4]])\n",
        "tensor = torch.from_numpy(x) #convert it into tensor\n",
        "y = tensor.numpy()#convert it to numpy array"
      ],
      "metadata": {
        "id": "MEl7Ns1nuv0e"
      },
      "execution_count": 30,
      "outputs": []
    },
    {
      "cell_type": "code",
      "source": [
        "type(x)"
      ],
      "metadata": {
        "id": "i8G--M_5vK2_",
        "colab": {
          "base_uri": "https://localhost:8080/"
        },
        "outputId": "f11111c9-acb7-42ba-d3cf-557fb7cb157d"
      },
      "execution_count": 31,
      "outputs": [
        {
          "output_type": "execute_result",
          "data": {
            "text/plain": [
              "numpy.ndarray"
            ]
          },
          "metadata": {},
          "execution_count": 31
        }
      ]
    },
    {
      "cell_type": "code",
      "source": [
        "type(tensor)"
      ],
      "metadata": {
        "id": "EKquJ-UPvNRl",
        "colab": {
          "base_uri": "https://localhost:8080/"
        },
        "outputId": "43f7c752-4ec2-449e-ae1a-02ddb74f5bce"
      },
      "execution_count": 32,
      "outputs": [
        {
          "output_type": "execute_result",
          "data": {
            "text/plain": [
              "torch.Tensor"
            ]
          },
          "metadata": {},
          "execution_count": 32
        }
      ]
    },
    {
      "cell_type": "code",
      "source": [
        "type(y)"
      ],
      "metadata": {
        "id": "rIGof9BgvPvX",
        "colab": {
          "base_uri": "https://localhost:8080/"
        },
        "outputId": "8e553ace-889d-4ade-d33b-b3a5d0203052"
      },
      "execution_count": 33,
      "outputs": [
        {
          "output_type": "execute_result",
          "data": {
            "text/plain": [
              "numpy.ndarray"
            ]
          },
          "metadata": {},
          "execution_count": 33
        }
      ]
    },
    {
      "cell_type": "code",
      "source": [],
      "metadata": {
        "id": "gbxpn6pvvSOk"
      },
      "execution_count": 33,
      "outputs": []
    }
  ]
}